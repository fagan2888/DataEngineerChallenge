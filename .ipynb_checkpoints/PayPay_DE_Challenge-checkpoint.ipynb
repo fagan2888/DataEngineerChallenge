{
 "cells": [
  {
   "cell_type": "markdown",
   "metadata": {},
   "source": [
    "## Start spark session"
   ]
  },
  {
   "cell_type": "code",
   "execution_count": 1,
   "metadata": {},
   "outputs": [],
   "source": [
    "#pyspark session\n",
    "from pyspark.sql import SparkSession\n",
    "\n",
    "spark = SparkSession.builder \\\n",
    "    .master(\"local[*]\")\\\n",
    "    .appName(\"PayPayChallenge\")\\\n",
    "    .getOrCreate()"
   ]
  },
  {
   "cell_type": "markdown",
   "metadata": {},
   "source": [
    "## Load python libaries"
   ]
  },
  {
   "cell_type": "code",
   "execution_count": 2,
   "metadata": {},
   "outputs": [],
   "source": [
    "#libraries\n",
    "from pyspark.sql.types import StructField, StructType , LongType, StringType, DateType, DoubleType, IntegerType, TimestampType\n",
    "from pyspark.sql import functions as F\n",
    "from pyspark.sql.window import Window as W\n",
    "import pandas as pd\n",
    "import matplotlib.pyplot as plt\n",
    "import numpy as np\n",
    "from matplotlib.ticker import StrMethodFormatter"
   ]
  },
  {
   "cell_type": "markdown",
   "metadata": {},
   "source": [
    "## Set parameters and options"
   ]
  },
  {
   "cell_type": "code",
   "execution_count": 3,
   "metadata": {},
   "outputs": [],
   "source": [
    "#parameters\n",
    "log_file = './data/2015_07_22_mktplace_shop_web_log_sample.log'\n",
    "\n",
    "pd.set_option('display.max_rows', None)  \n",
    "pd.set_option('display.max_columns', None)  \n",
    "pd.set_option('display.expand_frame_repr', False)\n",
    "pd.set_option('max_colwidth', -1)"
   ]
  },
  {
   "cell_type": "code",
   "execution_count": 4,
   "metadata": {},
   "outputs": [],
   "source": [
    "#schema based on AWS Elastic Load Balancer\n",
    "schema = StructType([\n",
    "    StructField(\"timestamp\", TimestampType()),\n",
    "    StructField(\"elb\", StringType()),\n",
    "    StructField(\"client_port\", StringType()),\n",
    "    StructField(\"backend_port\", StringType()),\n",
    "    StructField(\"request_processing_time\", DoubleType()),\n",
    "    StructField(\"backend_processing_time\", DoubleType()),\n",
    "    StructField(\"response_processing_time\", DoubleType()),\n",
    "    StructField(\"elb_status_code\", StringType()),\n",
    "    StructField(\"backend_status_code\", StringType()),\n",
    "    StructField(\"received_bytes\", IntegerType()),\n",
    "    StructField(\"sent_bytes\", IntegerType()),\n",
    "    StructField(\"request\", StringType()),\n",
    "    StructField(\"user_agent\", StringType()),\n",
    "    StructField(\"ssl_cipher\", StringType()),\n",
    "    StructField(\"ssl_protocol\", StringType())\n",
    "])"
   ]
  },
  {
   "cell_type": "code",
   "execution_count": 5,
   "metadata": {},
   "outputs": [],
   "source": [
    "#read log file\n",
    "log_df = spark.read.format('csv').load(log_file,sep=' ',schema=schema,encoding='UTF-8',header=False)"
   ]
  },
  {
   "cell_type": "code",
   "execution_count": 6,
   "metadata": {},
   "outputs": [
    {
     "data": {
      "text/html": [
       "<div>\n",
       "<style scoped>\n",
       "    .dataframe tbody tr th:only-of-type {\n",
       "        vertical-align: middle;\n",
       "    }\n",
       "\n",
       "    .dataframe tbody tr th {\n",
       "        vertical-align: top;\n",
       "    }\n",
       "\n",
       "    .dataframe thead th {\n",
       "        text-align: right;\n",
       "    }\n",
       "</style>\n",
       "<table border=\"1\" class=\"dataframe\">\n",
       "  <thead>\n",
       "    <tr style=\"text-align: right;\">\n",
       "      <th></th>\n",
       "      <th>timestamp</th>\n",
       "      <th>elb</th>\n",
       "      <th>client_port</th>\n",
       "      <th>backend_port</th>\n",
       "      <th>request_processing_time</th>\n",
       "      <th>backend_processing_time</th>\n",
       "      <th>response_processing_time</th>\n",
       "      <th>elb_status_code</th>\n",
       "      <th>backend_status_code</th>\n",
       "      <th>received_bytes</th>\n",
       "      <th>sent_bytes</th>\n",
       "      <th>request</th>\n",
       "      <th>user_agent</th>\n",
       "      <th>ssl_cipher</th>\n",
       "      <th>ssl_protocol</th>\n",
       "    </tr>\n",
       "  </thead>\n",
       "  <tbody>\n",
       "    <tr>\n",
       "      <th>0</th>\n",
       "      <td>2015-07-22 05:00:47.143</td>\n",
       "      <td>marketpalce-shop</td>\n",
       "      <td>123.242.248.130:54635</td>\n",
       "      <td>10.0.6.158:80</td>\n",
       "      <td>0.000022</td>\n",
       "      <td>0.026109</td>\n",
       "      <td>0.000020</td>\n",
       "      <td>200</td>\n",
       "      <td>200</td>\n",
       "      <td>0</td>\n",
       "      <td>699</td>\n",
       "      <td>GET https://paytm.com:443/shop/authresponse?code=f2405b05-e2ee-4b0d-8f6a-9fed0fcfe2e0&amp;state=null HTTP/1.1</td>\n",
       "      <td>Mozilla/5.0 (Windows NT 6.1; WOW64) AppleWebKit/537.36 (KHTML, like Gecko) Chrome/43.0.2357.130 Safari/537.36</td>\n",
       "      <td>ECDHE-RSA-AES128-GCM-SHA256</td>\n",
       "      <td>TLSv1.2</td>\n",
       "    </tr>\n",
       "    <tr>\n",
       "      <th>1</th>\n",
       "      <td>2015-07-22 05:15:21.580</td>\n",
       "      <td>marketpalce-shop</td>\n",
       "      <td>203.91.211.44:51402</td>\n",
       "      <td>10.0.4.150:80</td>\n",
       "      <td>0.000024</td>\n",
       "      <td>0.153340</td>\n",
       "      <td>0.000026</td>\n",
       "      <td>200</td>\n",
       "      <td>200</td>\n",
       "      <td>0</td>\n",
       "      <td>1497</td>\n",
       "      <td>GET https://paytm.com:443/shop/wallet/txnhistory?page_size=10&amp;page_number=0&amp;channel=web&amp;version=2 HTTP/1.1</td>\n",
       "      <td>Mozilla/5.0 (Windows NT 6.1; rv:39.0) Gecko/20100101 Firefox/39.0</td>\n",
       "      <td>ECDHE-RSA-AES128-GCM-SHA256</td>\n",
       "      <td>TLSv1.2</td>\n",
       "    </tr>\n",
       "    <tr>\n",
       "      <th>2</th>\n",
       "      <td>2015-07-22 05:15:12.745</td>\n",
       "      <td>marketpalce-shop</td>\n",
       "      <td>1.39.32.179:56419</td>\n",
       "      <td>10.0.4.244:80</td>\n",
       "      <td>0.000024</td>\n",
       "      <td>0.164958</td>\n",
       "      <td>0.000017</td>\n",
       "      <td>200</td>\n",
       "      <td>200</td>\n",
       "      <td>0</td>\n",
       "      <td>157</td>\n",
       "      <td>GET https://paytm.com:443/shop/wallet/txnhistory?page_size=10&amp;page_number=0&amp;channel=web&amp;version=2 HTTP/1.1</td>\n",
       "      <td>Mozilla/5.0 (Windows NT 6.1) AppleWebKit/537.36 (KHTML, like Gecko) Chrome/43.0.2357.134 Safari/537.36</td>\n",
       "      <td>ECDHE-RSA-AES128-GCM-SHA256</td>\n",
       "      <td>TLSv1.2</td>\n",
       "    </tr>\n",
       "    <tr>\n",
       "      <th>3</th>\n",
       "      <td>2015-07-22 05:01:16.369</td>\n",
       "      <td>marketpalce-shop</td>\n",
       "      <td>180.179.213.94:48725</td>\n",
       "      <td>10.0.6.108:80</td>\n",
       "      <td>0.000020</td>\n",
       "      <td>0.002333</td>\n",
       "      <td>0.000021</td>\n",
       "      <td>200</td>\n",
       "      <td>200</td>\n",
       "      <td>0</td>\n",
       "      <td>35734</td>\n",
       "      <td>GET https://paytm.com:443/shop/p/micromax-yu-yureka-moonstone-grey-MOBMICROMAX-YU-DUMM141CD60AF7C_34315 HTTP/1.0</td>\n",
       "      <td>-</td>\n",
       "      <td>ECDHE-RSA-AES128-GCM-SHA256</td>\n",
       "      <td>TLSv1.2</td>\n",
       "    </tr>\n",
       "    <tr>\n",
       "      <th>4</th>\n",
       "      <td>2015-07-22 05:01:04.251</td>\n",
       "      <td>marketpalce-shop</td>\n",
       "      <td>120.59.192.208:13527</td>\n",
       "      <td>10.0.4.217:80</td>\n",
       "      <td>0.000024</td>\n",
       "      <td>0.015091</td>\n",
       "      <td>0.000016</td>\n",
       "      <td>200</td>\n",
       "      <td>200</td>\n",
       "      <td>68</td>\n",
       "      <td>640</td>\n",
       "      <td>POST https://paytm.com:443/papi/v1/expresscart/verify HTTP/1.1</td>\n",
       "      <td>Mozilla/5.0 (Windows NT 6.1; WOW64) AppleWebKit/537.36 (KHTML, like Gecko) Chrome/44.0.2403.89 Safari/537.36</td>\n",
       "      <td>ECDHE-RSA-AES128-GCM-SHA256</td>\n",
       "      <td>TLSv1.2</td>\n",
       "    </tr>\n",
       "  </tbody>\n",
       "</table>\n",
       "</div>"
      ],
      "text/plain": [
       "                timestamp               elb            client_port   backend_port  request_processing_time  backend_processing_time  response_processing_time elb_status_code backend_status_code  received_bytes  sent_bytes                                                                                                           request                                                                                                     user_agent                   ssl_cipher ssl_protocol\n",
       "0 2015-07-22 05:00:47.143  marketpalce-shop  123.242.248.130:54635  10.0.6.158:80  0.000022                 0.026109                 0.000020                  200             200                 0               699         GET https://paytm.com:443/shop/authresponse?code=f2405b05-e2ee-4b0d-8f6a-9fed0fcfe2e0&state=null HTTP/1.1         Mozilla/5.0 (Windows NT 6.1; WOW64) AppleWebKit/537.36 (KHTML, like Gecko) Chrome/43.0.2357.130 Safari/537.36  ECDHE-RSA-AES128-GCM-SHA256  TLSv1.2    \n",
       "1 2015-07-22 05:15:21.580  marketpalce-shop  203.91.211.44:51402    10.0.4.150:80  0.000024                 0.153340                 0.000026                  200             200                 0               1497        GET https://paytm.com:443/shop/wallet/txnhistory?page_size=10&page_number=0&channel=web&version=2 HTTP/1.1        Mozilla/5.0 (Windows NT 6.1; rv:39.0) Gecko/20100101 Firefox/39.0                                              ECDHE-RSA-AES128-GCM-SHA256  TLSv1.2    \n",
       "2 2015-07-22 05:15:12.745  marketpalce-shop  1.39.32.179:56419      10.0.4.244:80  0.000024                 0.164958                 0.000017                  200             200                 0               157         GET https://paytm.com:443/shop/wallet/txnhistory?page_size=10&page_number=0&channel=web&version=2 HTTP/1.1        Mozilla/5.0 (Windows NT 6.1) AppleWebKit/537.36 (KHTML, like Gecko) Chrome/43.0.2357.134 Safari/537.36         ECDHE-RSA-AES128-GCM-SHA256  TLSv1.2    \n",
       "3 2015-07-22 05:01:16.369  marketpalce-shop  180.179.213.94:48725   10.0.6.108:80  0.000020                 0.002333                 0.000021                  200             200                 0               35734       GET https://paytm.com:443/shop/p/micromax-yu-yureka-moonstone-grey-MOBMICROMAX-YU-DUMM141CD60AF7C_34315 HTTP/1.0  -                                                                                                              ECDHE-RSA-AES128-GCM-SHA256  TLSv1.2    \n",
       "4 2015-07-22 05:01:04.251  marketpalce-shop  120.59.192.208:13527   10.0.4.217:80  0.000024                 0.015091                 0.000016                  200             200                 68              640         POST https://paytm.com:443/papi/v1/expresscart/verify HTTP/1.1                                                    Mozilla/5.0 (Windows NT 6.1; WOW64) AppleWebKit/537.36 (KHTML, like Gecko) Chrome/44.0.2403.89 Safari/537.36   ECDHE-RSA-AES128-GCM-SHA256  TLSv1.2    "
      ]
     },
     "execution_count": 6,
     "metadata": {},
     "output_type": "execute_result"
    }
   ],
   "source": [
    "#inspect first rows\n",
    "n=5\n",
    "log_df.limit(n).toPandas().head(n)"
   ]
  },
  {
   "cell_type": "code",
   "execution_count": 7,
   "metadata": {},
   "outputs": [
    {
     "data": {
      "text/html": [
       "<div>\n",
       "<style scoped>\n",
       "    .dataframe tbody tr th:only-of-type {\n",
       "        vertical-align: middle;\n",
       "    }\n",
       "\n",
       "    .dataframe tbody tr th {\n",
       "        vertical-align: top;\n",
       "    }\n",
       "\n",
       "    .dataframe thead th {\n",
       "        text-align: right;\n",
       "    }\n",
       "</style>\n",
       "<table border=\"1\" class=\"dataframe\">\n",
       "  <thead>\n",
       "    <tr style=\"text-align: right;\">\n",
       "      <th></th>\n",
       "      <th>summary</th>\n",
       "      <th>elb</th>\n",
       "      <th>client_port</th>\n",
       "      <th>backend_port</th>\n",
       "      <th>request_processing_time</th>\n",
       "      <th>backend_processing_time</th>\n",
       "      <th>response_processing_time</th>\n",
       "      <th>elb_status_code</th>\n",
       "      <th>backend_status_code</th>\n",
       "      <th>received_bytes</th>\n",
       "      <th>sent_bytes</th>\n",
       "      <th>request</th>\n",
       "      <th>user_agent</th>\n",
       "      <th>ssl_cipher</th>\n",
       "      <th>ssl_protocol</th>\n",
       "    </tr>\n",
       "  </thead>\n",
       "  <tbody>\n",
       "    <tr>\n",
       "      <th>0</th>\n",
       "      <td>count</td>\n",
       "      <td>1158500</td>\n",
       "      <td>1158500</td>\n",
       "      <td>1158500</td>\n",
       "      <td>1158500</td>\n",
       "      <td>1158500</td>\n",
       "      <td>1158500</td>\n",
       "      <td>1158500</td>\n",
       "      <td>1158500</td>\n",
       "      <td>1158500</td>\n",
       "      <td>1158500</td>\n",
       "      <td>1158500</td>\n",
       "      <td>1158495</td>\n",
       "      <td>1158500</td>\n",
       "      <td>1158500</td>\n",
       "    </tr>\n",
       "    <tr>\n",
       "      <th>1</th>\n",
       "      <td>mean</td>\n",
       "      <td>None</td>\n",
       "      <td>None</td>\n",
       "      <td>None</td>\n",
       "      <td>-1.1705134829518615E-4</td>\n",
       "      <td>0.03305756986361663</td>\n",
       "      <td>-1.1899541907637441E-4</td>\n",
       "      <td>216.7690315062581</td>\n",
       "      <td>216.69855416486837</td>\n",
       "      <td>27.532892533448425</td>\n",
       "      <td>5488.19137850669</td>\n",
       "      <td>None</td>\n",
       "      <td>None</td>\n",
       "      <td>None</td>\n",
       "      <td>None</td>\n",
       "    </tr>\n",
       "    <tr>\n",
       "      <th>2</th>\n",
       "      <td>stddev</td>\n",
       "      <td>None</td>\n",
       "      <td>None</td>\n",
       "      <td>None</td>\n",
       "      <td>0.011824675161465738</td>\n",
       "      <td>0.36602516685578956</td>\n",
       "      <td>0.011824654382179903</td>\n",
       "      <td>42.31295192169145</td>\n",
       "      <td>42.25417090646583</td>\n",
       "      <td>204.49287327553898</td>\n",
       "      <td>15629.351806091025</td>\n",
       "      <td>None</td>\n",
       "      <td>None</td>\n",
       "      <td>None</td>\n",
       "      <td>None</td>\n",
       "    </tr>\n",
       "    <tr>\n",
       "      <th>3</th>\n",
       "      <td>min</td>\n",
       "      <td>marketpalce-shop</td>\n",
       "      <td>1.186.101.79:50613</td>\n",
       "      <td>-</td>\n",
       "      <td>-1.0</td>\n",
       "      <td>-1.0</td>\n",
       "      <td>-1.0</td>\n",
       "      <td>200</td>\n",
       "      <td>0</td>\n",
       "      <td>0</td>\n",
       "      <td>0</td>\n",
       "      <td>\"GET http://paytm.com:80/%27\"()&amp;%251%3CScRiPt%20%3Eprompt(909775)%3C/ScRiPt%3E/meru</td>\n",
       "      <td>\\tMozilla/5.0 (Windows NT 6.1; rv:24.0) Gecko/20100101 Firefox/24.0</td>\n",
       "      <td>-</td>\n",
       "      <td>-</td>\n",
       "    </tr>\n",
       "    <tr>\n",
       "      <th>4</th>\n",
       "      <td>max</td>\n",
       "      <td>marketpalce-shop</td>\n",
       "      <td>99.8.170.3:60015</td>\n",
       "      <td>10.0.6.99:81</td>\n",
       "      <td>1.51E-4</td>\n",
       "      <td>58.698117</td>\n",
       "      <td>0.001433</td>\n",
       "      <td>504</td>\n",
       "      <td>504</td>\n",
       "      <td>23403</td>\n",
       "      <td>1068957</td>\n",
       "      <td>PUT https://paytm.com:443/shop/user/address HTTP/1.1</td>\n",
       "      <td>ultrafone 105+(Linux; U;) AppleWebKit/534.30 (KHTML, like Gecko) Version/4.0.3 Mobile Safari/534.30</td>\n",
       "      <td>Mozilla/5.0 (compatible; MSIE 9.0; Windows NT 6.1; WOW64; Trident/5.0)</td>\n",
       "      <td>TLSv1.2</td>\n",
       "    </tr>\n",
       "  </tbody>\n",
       "</table>\n",
       "</div>"
      ],
      "text/plain": [
       "  summary               elb         client_port  backend_port request_processing_time backend_processing_time response_processing_time    elb_status_code backend_status_code      received_bytes          sent_bytes                                                                              request                                                                                           user_agent                                                              ssl_cipher ssl_protocol\n",
       "0  count   1158500           1158500             1158500       1158500                 1158500                 1158500                  1158500            1158500             1158500             1158500             1158500                                                                              1158495                                                                                              1158500                                                                 1158500    \n",
       "1  mean    None              None                None          -1.1705134829518615E-4  0.03305756986361663     -1.1899541907637441E-4   216.7690315062581  216.69855416486837  27.532892533448425  5488.19137850669    None                                                                                 None                                                                                                 None                                                                    None       \n",
       "2  stddev  None              None                None          0.011824675161465738    0.36602516685578956     0.011824654382179903     42.31295192169145  42.25417090646583   204.49287327553898  15629.351806091025  None                                                                                 None                                                                                                 None                                                                    None       \n",
       "3  min     marketpalce-shop  1.186.101.79:50613  -             -1.0                    -1.0                    -1.0                     200                0                   0                   0                   \"GET http://paytm.com:80/%27\"()&%251%3CScRiPt%20%3Eprompt(909775)%3C/ScRiPt%3E/meru  \\tMozilla/5.0 (Windows NT 6.1; rv:24.0) Gecko/20100101 Firefox/24.0                                  -                                                                       -          \n",
       "4  max     marketpalce-shop  99.8.170.3:60015    10.0.6.99:81  1.51E-4                 58.698117               0.001433                 504                504                 23403               1068957             PUT https://paytm.com:443/shop/user/address HTTP/1.1                                 ultrafone 105+(Linux; U;) AppleWebKit/534.30 (KHTML, like Gecko) Version/4.0.3 Mobile Safari/534.30  Mozilla/5.0 (compatible; MSIE 9.0; Windows NT 6.1; WOW64; Trident/5.0)  TLSv1.2    "
      ]
     },
     "execution_count": 7,
     "metadata": {},
     "output_type": "execute_result"
    }
   ],
   "source": [
    "#check the data's quality\n",
    "log_df.describe().toPandas()"
   ]
  },
  {
   "cell_type": "markdown",
   "metadata": {},
   "source": [
    "## There seems to be entries with negative processing time, is it this valid to have these?"
   ]
  },
  {
   "cell_type": "code",
   "execution_count": 29,
   "metadata": {},
   "outputs": [],
   "source": [
    "check_negative = log_df.where(F.col(\"request_processing_time\")<=0)"
   ]
  },
  {
   "cell_type": "code",
   "execution_count": 31,
   "metadata": {},
   "outputs": [
    {
     "data": {
      "text/html": [
       "<div>\n",
       "<style scoped>\n",
       "    .dataframe tbody tr th:only-of-type {\n",
       "        vertical-align: middle;\n",
       "    }\n",
       "\n",
       "    .dataframe tbody tr th {\n",
       "        vertical-align: top;\n",
       "    }\n",
       "\n",
       "    .dataframe thead th {\n",
       "        text-align: right;\n",
       "    }\n",
       "</style>\n",
       "<table border=\"1\" class=\"dataframe\">\n",
       "  <thead>\n",
       "    <tr style=\"text-align: right;\">\n",
       "      <th></th>\n",
       "      <th>timestamp</th>\n",
       "      <th>elb</th>\n",
       "      <th>client_port</th>\n",
       "      <th>backend_port</th>\n",
       "      <th>request_processing_time</th>\n",
       "      <th>backend_processing_time</th>\n",
       "      <th>response_processing_time</th>\n",
       "      <th>elb_status_code</th>\n",
       "      <th>backend_status_code</th>\n",
       "      <th>received_bytes</th>\n",
       "      <th>sent_bytes</th>\n",
       "      <th>request</th>\n",
       "      <th>user_agent</th>\n",
       "      <th>ssl_cipher</th>\n",
       "      <th>ssl_protocol</th>\n",
       "    </tr>\n",
       "  </thead>\n",
       "  <tbody>\n",
       "    <tr>\n",
       "      <th>0</th>\n",
       "      <td>2015-07-22 05:15:25.581</td>\n",
       "      <td>marketpalce-shop</td>\n",
       "      <td>106.66.99.116:37913</td>\n",
       "      <td>-</td>\n",
       "      <td>-1.0</td>\n",
       "      <td>-1.0</td>\n",
       "      <td>-1.0</td>\n",
       "      <td>504</td>\n",
       "      <td>0</td>\n",
       "      <td>0</td>\n",
       "      <td>0</td>\n",
       "      <td>GET https://paytm.com:443/shop/orderdetail/1116223940?channel=web&amp;version=2 HTTP/1.1</td>\n",
       "      <td>Mozilla/5.0 (Windows NT 6.1) AppleWebKit/535.1 (KHTML, like Gecko) Chrome/14.0.794.0 Safari/535.1</td>\n",
       "      <td>ECDHE-RSA-AES128-SHA</td>\n",
       "      <td>TLSv1</td>\n",
       "    </tr>\n",
       "    <tr>\n",
       "      <th>1</th>\n",
       "      <td>2015-07-22 05:14:55.459</td>\n",
       "      <td>marketpalce-shop</td>\n",
       "      <td>70.39.187.170:43625</td>\n",
       "      <td>-</td>\n",
       "      <td>-1.0</td>\n",
       "      <td>-1.0</td>\n",
       "      <td>-1.0</td>\n",
       "      <td>504</td>\n",
       "      <td>0</td>\n",
       "      <td>0</td>\n",
       "      <td>0</td>\n",
       "      <td>GET https://paytm.com:443/offer/wp-content/plugins/contact-form-7/includes/js/jquery.form.min.js?ver=3.51.0-2014.06.20 HTTP/1.1</td>\n",
       "      <td>UCWEB/2.0 (Java; U; MIDP-2.0; Nokia203/20.37) U2/1.0.0 UCBrowser/8.7.0.218 U2/1.0.0 Mobile</td>\n",
       "      <td>ECDHE-RSA-AES128-SHA</td>\n",
       "      <td>TLSv1</td>\n",
       "    </tr>\n",
       "    <tr>\n",
       "      <th>2</th>\n",
       "      <td>2015-07-22 05:16:03.465</td>\n",
       "      <td>marketpalce-shop</td>\n",
       "      <td>144.36.185.50:50762</td>\n",
       "      <td>-</td>\n",
       "      <td>-1.0</td>\n",
       "      <td>-1.0</td>\n",
       "      <td>-1.0</td>\n",
       "      <td>504</td>\n",
       "      <td>0</td>\n",
       "      <td>0</td>\n",
       "      <td>0</td>\n",
       "      <td>POST https://paytm.com:443/shop/log HTTP/1.1</td>\n",
       "      <td>Mozilla/5.0 (compatible; MSIE 9.0; Windows NT 6.1; WOW64; Trident/5.0; gdn/adcp)</td>\n",
       "      <td>ECDHE-RSA-AES128-SHA</td>\n",
       "      <td>TLSv1</td>\n",
       "    </tr>\n",
       "    <tr>\n",
       "      <th>3</th>\n",
       "      <td>2015-07-22 06:48:08.307</td>\n",
       "      <td>marketpalce-shop</td>\n",
       "      <td>15.211.153.75:5014</td>\n",
       "      <td>-</td>\n",
       "      <td>-1.0</td>\n",
       "      <td>-1.0</td>\n",
       "      <td>-1.0</td>\n",
       "      <td>504</td>\n",
       "      <td>0</td>\n",
       "      <td>0</td>\n",
       "      <td>0</td>\n",
       "      <td>POST https://paytm.com:443/shop/log HTTP/1.1</td>\n",
       "      <td>Mozilla/5.0 (compatible; MSIE 10.0; Windows NT 6.1; WOW64; Trident/6.0)</td>\n",
       "      <td>ECDHE-RSA-AES128-SHA256</td>\n",
       "      <td>TLSv1.2</td>\n",
       "    </tr>\n",
       "    <tr>\n",
       "      <th>4</th>\n",
       "      <td>2015-07-22 06:53:59.302</td>\n",
       "      <td>marketpalce-shop</td>\n",
       "      <td>119.235.53.134:53019</td>\n",
       "      <td>-</td>\n",
       "      <td>-1.0</td>\n",
       "      <td>-1.0</td>\n",
       "      <td>-1.0</td>\n",
       "      <td>504</td>\n",
       "      <td>0</td>\n",
       "      <td>0</td>\n",
       "      <td>0</td>\n",
       "      <td>POST https://paytm.com:443/shop/log HTTP/1.1</td>\n",
       "      <td>Mozilla/5.0 (compatible; MSIE 9.0; Windows NT 6.1; Trident/5.0)</td>\n",
       "      <td>ECDHE-RSA-AES128-SHA256</td>\n",
       "      <td>TLSv1.2</td>\n",
       "    </tr>\n",
       "  </tbody>\n",
       "</table>\n",
       "</div>"
      ],
      "text/plain": [
       "                timestamp               elb           client_port backend_port  request_processing_time  backend_processing_time  response_processing_time elb_status_code backend_status_code  received_bytes  sent_bytes                                                                                                                          request                                                                                         user_agent               ssl_cipher ssl_protocol\n",
       "0 2015-07-22 05:15:25.581  marketpalce-shop  106.66.99.116:37913   -           -1.0                     -1.0                     -1.0                       504             0                   0               0           GET https://paytm.com:443/shop/orderdetail/1116223940?channel=web&version=2 HTTP/1.1                                             Mozilla/5.0 (Windows NT 6.1) AppleWebKit/535.1 (KHTML, like Gecko) Chrome/14.0.794.0 Safari/535.1  ECDHE-RSA-AES128-SHA     TLSv1      \n",
       "1 2015-07-22 05:14:55.459  marketpalce-shop  70.39.187.170:43625   -           -1.0                     -1.0                     -1.0                       504             0                   0               0           GET https://paytm.com:443/offer/wp-content/plugins/contact-form-7/includes/js/jquery.form.min.js?ver=3.51.0-2014.06.20 HTTP/1.1  UCWEB/2.0 (Java; U; MIDP-2.0; Nokia203/20.37) U2/1.0.0 UCBrowser/8.7.0.218 U2/1.0.0 Mobile         ECDHE-RSA-AES128-SHA     TLSv1      \n",
       "2 2015-07-22 05:16:03.465  marketpalce-shop  144.36.185.50:50762   -           -1.0                     -1.0                     -1.0                       504             0                   0               0           POST https://paytm.com:443/shop/log HTTP/1.1                                                                                     Mozilla/5.0 (compatible; MSIE 9.0; Windows NT 6.1; WOW64; Trident/5.0; gdn/adcp)                   ECDHE-RSA-AES128-SHA     TLSv1      \n",
       "3 2015-07-22 06:48:08.307  marketpalce-shop  15.211.153.75:5014    -           -1.0                     -1.0                     -1.0                       504             0                   0               0           POST https://paytm.com:443/shop/log HTTP/1.1                                                                                     Mozilla/5.0 (compatible; MSIE 10.0; Windows NT 6.1; WOW64; Trident/6.0)                            ECDHE-RSA-AES128-SHA256  TLSv1.2    \n",
       "4 2015-07-22 06:53:59.302  marketpalce-shop  119.235.53.134:53019  -           -1.0                     -1.0                     -1.0                       504             0                   0               0           POST https://paytm.com:443/shop/log HTTP/1.1                                                                                     Mozilla/5.0 (compatible; MSIE 9.0; Windows NT 6.1; Trident/5.0)                                    ECDHE-RSA-AES128-SHA256  TLSv1.2    "
      ]
     },
     "execution_count": 31,
     "metadata": {},
     "output_type": "execute_result"
    }
   ],
   "source": [
    "n = 5\n",
    "check_negative.limit(n).toPandas().head(n)"
   ]
  },
  {
   "cell_type": "markdown",
   "metadata": {},
   "source": [
    "## Based from the https://docs.aws.amazon.com/elasticloadbalancing/latest/classic/ts-elb-error-message.html error code, these are requests that experienced timed out due to technical reasons from here, i remove entries with negative processing time and then parse through the client_port to get the ip addresses and requests to get the url that users visited."
   ]
  },
  {
   "cell_type": "code",
   "execution_count": 8,
   "metadata": {},
   "outputs": [],
   "source": [
    "#filter columns with what we need and remove request_processing_time, backend_processing_time and response_processing_time = -1.0\n",
    "subset_log_df = log_df\\\n",
    ".filter((F.col(\"request_processing_time\")>0.0) | (F.col(\"backend_processing_time\")>0.0) | (F.col(\"response_processing_time\")>0.0))\\\n",
    ".select('timestamp',F.split(log_df.client_port, ':').getItem(0).alias('ip_address'),F.split(log_df.request, ' ').getItem(1).alias('request'))"
   ]
  },
  {
   "cell_type": "markdown",
   "metadata": {},
   "source": [
    "# 1.) Sessionalized the data\n",
    "## Now based on the processed data, i sessionalize the weblogs. i first lag the timestamps by ip_address, compute their time difference and set an inactivity threshold of 15 minutes as reccomended."
   ]
  },
  {
   "cell_type": "code",
   "execution_count": 72,
   "metadata": {},
   "outputs": [],
   "source": [
    "#sessionize weblogs\n",
    "user_session_id = subset_log_df.withColumn(\"last_event\", F.lag('timestamp').over(W.partitionBy('ip_address').orderBy('timestamp')))\\\n",
    ".withColumn('lag_in_minutes', (F.unix_timestamp('timestamp') - F.unix_timestamp('last_event'))/60)\\\n",
    ".withColumn('is_new_session', F.when( F.col('lag_in_minutes') > 15 , 1).otherwise(0))\\\n",
    ".withColumn(\"user_session_id\", F.sum('is_new_session').over(W.partitionBy('ip_address').orderBy('timestamp')))"
   ]
  },
  {
   "cell_type": "code",
   "execution_count": 21,
   "metadata": {},
   "outputs": [
    {
     "data": {
      "text/html": [
       "<div>\n",
       "<style scoped>\n",
       "    .dataframe tbody tr th:only-of-type {\n",
       "        vertical-align: middle;\n",
       "    }\n",
       "\n",
       "    .dataframe tbody tr th {\n",
       "        vertical-align: top;\n",
       "    }\n",
       "\n",
       "    .dataframe thead th {\n",
       "        text-align: right;\n",
       "    }\n",
       "</style>\n",
       "<table border=\"1\" class=\"dataframe\">\n",
       "  <thead>\n",
       "    <tr style=\"text-align: right;\">\n",
       "      <th></th>\n",
       "      <th>timestamp</th>\n",
       "      <th>ip_address</th>\n",
       "      <th>request</th>\n",
       "      <th>last_event</th>\n",
       "      <th>lag_in_minutes</th>\n",
       "      <th>is_new_session</th>\n",
       "      <th>user_session_id</th>\n",
       "    </tr>\n",
       "  </thead>\n",
       "  <tbody>\n",
       "    <tr>\n",
       "      <th>0</th>\n",
       "      <td>2015-07-22 12:19:44.131</td>\n",
       "      <td>1.186.143.37</td>\n",
       "      <td>https://paytm.com:443/</td>\n",
       "      <td>NaT</td>\n",
       "      <td>NaN</td>\n",
       "      <td>0</td>\n",
       "      <td>0</td>\n",
       "    </tr>\n",
       "    <tr>\n",
       "      <th>1</th>\n",
       "      <td>2015-07-22 12:28:50.873</td>\n",
       "      <td>1.186.143.37</td>\n",
       "      <td>https://paytm.com:443/shop/cart?channel=web&amp;version=2</td>\n",
       "      <td>2015-07-22 12:19:44.131</td>\n",
       "      <td>9.100000</td>\n",
       "      <td>0</td>\n",
       "      <td>0</td>\n",
       "    </tr>\n",
       "    <tr>\n",
       "      <th>2</th>\n",
       "      <td>2015-07-21 22:45:34.268</td>\n",
       "      <td>1.187.164.29</td>\n",
       "      <td>https://paytm.com:443/shop/authresponse?code=d1aa3c22-b32b-41a4-95c8-14097487c261</td>\n",
       "      <td>NaT</td>\n",
       "      <td>NaN</td>\n",
       "      <td>0</td>\n",
       "      <td>0</td>\n",
       "    </tr>\n",
       "    <tr>\n",
       "      <th>3</th>\n",
       "      <td>2015-07-21 22:45:44.871</td>\n",
       "      <td>1.187.164.29</td>\n",
       "      <td>https://paytm.com:443/shop/v1/frequentorders?channel=web&amp;version=2</td>\n",
       "      <td>2015-07-21 22:45:34.268</td>\n",
       "      <td>0.166667</td>\n",
       "      <td>0</td>\n",
       "      <td>0</td>\n",
       "    </tr>\n",
       "    <tr>\n",
       "      <th>4</th>\n",
       "      <td>2015-07-21 22:45:46.201</td>\n",
       "      <td>1.187.164.29</td>\n",
       "      <td>https://paytm.com:443/shop?utm_source=Affiliates&amp;utm_medium=VCOMM&amp;utm_campaign=VCOMM&amp;utm_term=24890</td>\n",
       "      <td>2015-07-21 22:45:44.871</td>\n",
       "      <td>0.033333</td>\n",
       "      <td>0</td>\n",
       "      <td>0</td>\n",
       "    </tr>\n",
       "    <tr>\n",
       "      <th>5</th>\n",
       "      <td>2015-07-21 22:48:37.646</td>\n",
       "      <td>1.187.164.29</td>\n",
       "      <td>https://paytm.com:443/shop/wallet/txnhistory?page_size=10&amp;page_number=0&amp;channel=web&amp;version=2</td>\n",
       "      <td>2015-07-21 22:45:46.201</td>\n",
       "      <td>2.850000</td>\n",
       "      <td>0</td>\n",
       "      <td>0</td>\n",
       "    </tr>\n",
       "    <tr>\n",
       "      <th>6</th>\n",
       "      <td>2015-07-21 22:48:45.266</td>\n",
       "      <td>1.187.164.29</td>\n",
       "      <td>https://paytm.com:443/shop/wallet/getP2BModelWindowDetails</td>\n",
       "      <td>2015-07-21 22:48:37.646</td>\n",
       "      <td>0.133333</td>\n",
       "      <td>0</td>\n",
       "      <td>0</td>\n",
       "    </tr>\n",
       "    <tr>\n",
       "      <th>7</th>\n",
       "      <td>2015-07-21 22:49:18.011</td>\n",
       "      <td>1.187.164.29</td>\n",
       "      <td>https://paytm.com:443/shop/wallet/balance?channel=web&amp;version=2</td>\n",
       "      <td>2015-07-21 22:48:45.266</td>\n",
       "      <td>0.550000</td>\n",
       "      <td>0</td>\n",
       "      <td>0</td>\n",
       "    </tr>\n",
       "    <tr>\n",
       "      <th>8</th>\n",
       "      <td>2015-07-21 22:55:12.225</td>\n",
       "      <td>1.187.164.29</td>\n",
       "      <td>https://paytm.com:443/shop/login?isIframe=true&amp;theme=mp-web</td>\n",
       "      <td>2015-07-21 22:49:18.011</td>\n",
       "      <td>5.900000</td>\n",
       "      <td>0</td>\n",
       "      <td>0</td>\n",
       "    </tr>\n",
       "    <tr>\n",
       "      <th>9</th>\n",
       "      <td>2015-07-21 22:55:57.304</td>\n",
       "      <td>1.187.164.29</td>\n",
       "      <td>https://paytm.com:443/shop/cart?channel=web&amp;version=2</td>\n",
       "      <td>2015-07-21 22:55:12.225</td>\n",
       "      <td>0.750000</td>\n",
       "      <td>0</td>\n",
       "      <td>0</td>\n",
       "    </tr>\n",
       "  </tbody>\n",
       "</table>\n",
       "</div>"
      ],
      "text/plain": [
       "                timestamp    ip_address                                                                                              request              last_event  lag_in_minutes  is_new_session  user_session_id\n",
       "0 2015-07-22 12:19:44.131  1.186.143.37  https://paytm.com:443/                                                                              NaT                     NaN              0               0              \n",
       "1 2015-07-22 12:28:50.873  1.186.143.37  https://paytm.com:443/shop/cart?channel=web&version=2                                               2015-07-22 12:19:44.131  9.100000        0               0              \n",
       "2 2015-07-21 22:45:34.268  1.187.164.29  https://paytm.com:443/shop/authresponse?code=d1aa3c22-b32b-41a4-95c8-14097487c261                   NaT                     NaN              0               0              \n",
       "3 2015-07-21 22:45:44.871  1.187.164.29  https://paytm.com:443/shop/v1/frequentorders?channel=web&version=2                                  2015-07-21 22:45:34.268  0.166667        0               0              \n",
       "4 2015-07-21 22:45:46.201  1.187.164.29  https://paytm.com:443/shop?utm_source=Affiliates&utm_medium=VCOMM&utm_campaign=VCOMM&utm_term=24890 2015-07-21 22:45:44.871  0.033333        0               0              \n",
       "5 2015-07-21 22:48:37.646  1.187.164.29  https://paytm.com:443/shop/wallet/txnhistory?page_size=10&page_number=0&channel=web&version=2       2015-07-21 22:45:46.201  2.850000        0               0              \n",
       "6 2015-07-21 22:48:45.266  1.187.164.29  https://paytm.com:443/shop/wallet/getP2BModelWindowDetails                                          2015-07-21 22:48:37.646  0.133333        0               0              \n",
       "7 2015-07-21 22:49:18.011  1.187.164.29  https://paytm.com:443/shop/wallet/balance?channel=web&version=2                                     2015-07-21 22:48:45.266  0.550000        0               0              \n",
       "8 2015-07-21 22:55:12.225  1.187.164.29  https://paytm.com:443/shop/login?isIframe=true&theme=mp-web                                         2015-07-21 22:49:18.011  5.900000        0               0              \n",
       "9 2015-07-21 22:55:57.304  1.187.164.29  https://paytm.com:443/shop/cart?channel=web&version=2                                               2015-07-21 22:55:12.225  0.750000        0               0              "
      ]
     },
     "execution_count": 21,
     "metadata": {},
     "output_type": "execute_result"
    }
   ],
   "source": [
    "n = 10\n",
    "user_session_id.limit(n).toPandas().head(n)"
   ]
  },
  {
   "cell_type": "markdown",
   "metadata": {},
   "source": [
    "# 2.)Determine the average session time\n",
    "## Given that i'm able to establish user sessions, i can now calculate for session duration which i can derive the average session time from the logs.\n",
    "## I simply get the min and max timestamp, corresponding to the start time of the session and end time of the session then i get the average."
   ]
  },
  {
   "cell_type": "code",
   "execution_count": 22,
   "metadata": {},
   "outputs": [],
   "source": [
    "min_max_timestamp_session = user_session_id\\\n",
    ".select('timestamp','ip_address','user_session_id')\\\n",
    ".withColumn(\"session_start\", F.min('timestamp').over(W.partitionBy('ip_address','user_session_id')))\\\n",
    ".withColumn(\"session_end\", F.max('timestamp').over(W.partitionBy('ip_address','user_session_id')))\\\n",
    ".drop('timestamp')\\\n",
    ".withColumn('session_duration', (F.unix_timestamp('session_end') - F.unix_timestamp('session_start'))/60)\\\n",
    ".distinct()"
   ]
  },
  {
   "cell_type": "code",
   "execution_count": 23,
   "metadata": {},
   "outputs": [
    {
     "data": {
      "text/html": [
       "<div>\n",
       "<style scoped>\n",
       "    .dataframe tbody tr th:only-of-type {\n",
       "        vertical-align: middle;\n",
       "    }\n",
       "\n",
       "    .dataframe tbody tr th {\n",
       "        vertical-align: top;\n",
       "    }\n",
       "\n",
       "    .dataframe thead th {\n",
       "        text-align: right;\n",
       "    }\n",
       "</style>\n",
       "<table border=\"1\" class=\"dataframe\">\n",
       "  <thead>\n",
       "    <tr style=\"text-align: right;\">\n",
       "      <th></th>\n",
       "      <th>ip_address</th>\n",
       "      <th>user_session_id</th>\n",
       "      <th>session_start</th>\n",
       "      <th>session_end</th>\n",
       "      <th>session_duration</th>\n",
       "    </tr>\n",
       "  </thead>\n",
       "  <tbody>\n",
       "    <tr>\n",
       "      <th>0</th>\n",
       "      <td>1.186.143.37</td>\n",
       "      <td>0</td>\n",
       "      <td>2015-07-22 12:19:44.131</td>\n",
       "      <td>2015-07-22 12:28:50.873</td>\n",
       "      <td>9.100000</td>\n",
       "    </tr>\n",
       "    <tr>\n",
       "      <th>1</th>\n",
       "      <td>1.187.164.29</td>\n",
       "      <td>0</td>\n",
       "      <td>2015-07-21 22:45:34.268</td>\n",
       "      <td>2015-07-21 23:00:56.557</td>\n",
       "      <td>15.366667</td>\n",
       "    </tr>\n",
       "    <tr>\n",
       "      <th>2</th>\n",
       "      <td>1.22.41.76</td>\n",
       "      <td>0</td>\n",
       "      <td>2015-07-22 12:43:13.170</td>\n",
       "      <td>2015-07-22 12:57:37.037</td>\n",
       "      <td>14.400000</td>\n",
       "    </tr>\n",
       "    <tr>\n",
       "      <th>3</th>\n",
       "      <td>1.23.208.26</td>\n",
       "      <td>0</td>\n",
       "      <td>2015-07-22 13:45:06.903</td>\n",
       "      <td>2015-07-22 14:02:23.589</td>\n",
       "      <td>17.283333</td>\n",
       "    </tr>\n",
       "    <tr>\n",
       "      <th>4</th>\n",
       "      <td>1.23.36.184</td>\n",
       "      <td>0</td>\n",
       "      <td>2015-07-22 01:18:25.288</td>\n",
       "      <td>2015-07-22 01:27:51.342</td>\n",
       "      <td>9.433333</td>\n",
       "    </tr>\n",
       "  </tbody>\n",
       "</table>\n",
       "</div>"
      ],
      "text/plain": [
       "     ip_address  user_session_id           session_start             session_end  session_duration\n",
       "0  1.186.143.37  0               2015-07-22 12:19:44.131 2015-07-22 12:28:50.873  9.100000        \n",
       "1  1.187.164.29  0               2015-07-21 22:45:34.268 2015-07-21 23:00:56.557  15.366667       \n",
       "2  1.22.41.76    0               2015-07-22 12:43:13.170 2015-07-22 12:57:37.037  14.400000       \n",
       "3  1.23.208.26   0               2015-07-22 13:45:06.903 2015-07-22 14:02:23.589  17.283333       \n",
       "4  1.23.36.184   0               2015-07-22 01:18:25.288 2015-07-22 01:27:51.342  9.433333        "
      ]
     },
     "execution_count": 23,
     "metadata": {},
     "output_type": "execute_result"
    }
   ],
   "source": [
    "n = 5\n",
    "min_max_timestamp_session.limit(n).toPandas().head(n)"
   ]
  },
  {
   "cell_type": "markdown",
   "metadata": {},
   "source": [
    "## based on this we get that a session lasts at 9.58 minutes or roughly 10 minutes at an average, might be interesting to check the distribution in-case there might be outliers, events or specifics users pulling the average's center of tendency."
   ]
  },
  {
   "cell_type": "code",
   "execution_count": 24,
   "metadata": {},
   "outputs": [
    {
     "name": "stdout",
     "output_type": "stream",
     "text": [
      "+---------------------+\n",
      "|avg(session_duration)|\n",
      "+---------------------+\n",
      "|    9.576064242863021|\n",
      "+---------------------+\n",
      "\n"
     ]
    }
   ],
   "source": [
    "min_max_timestamp_session.agg(F.avg(F.col(\"session_duration\"))).show()"
   ]
  },
  {
   "cell_type": "markdown",
   "metadata": {},
   "source": [
    "# 3.) Determine unique URL visits per session. To clarify, count a hit to a unique URL only once per session.\n",
    "## here i simply apply a windowing function over ip address and user session and perform a distinct count of \"requests\" or urls"
   ]
  },
  {
   "cell_type": "code",
   "execution_count": 25,
   "metadata": {},
   "outputs": [],
   "source": [
    "unique_url_visits_count = user_session_id\\\n",
    ".select('ip_address','user_session_id','request')\\\n",
    ".withColumn(\"unique_url_count\", F.approx_count_distinct(\"request\").over(W.partitionBy('ip_address','user_session_id')))\\\n",
    ".drop('request')\\\n",
    ".distinct()"
   ]
  },
  {
   "cell_type": "code",
   "execution_count": 26,
   "metadata": {},
   "outputs": [
    {
     "data": {
      "text/html": [
       "<div>\n",
       "<style scoped>\n",
       "    .dataframe tbody tr th:only-of-type {\n",
       "        vertical-align: middle;\n",
       "    }\n",
       "\n",
       "    .dataframe tbody tr th {\n",
       "        vertical-align: top;\n",
       "    }\n",
       "\n",
       "    .dataframe thead th {\n",
       "        text-align: right;\n",
       "    }\n",
       "</style>\n",
       "<table border=\"1\" class=\"dataframe\">\n",
       "  <thead>\n",
       "    <tr style=\"text-align: right;\">\n",
       "      <th></th>\n",
       "      <th>ip_address</th>\n",
       "      <th>user_session_id</th>\n",
       "      <th>unique_url_count</th>\n",
       "    </tr>\n",
       "  </thead>\n",
       "  <tbody>\n",
       "    <tr>\n",
       "      <th>0</th>\n",
       "      <td>1.186.143.37</td>\n",
       "      <td>0</td>\n",
       "      <td>2</td>\n",
       "    </tr>\n",
       "    <tr>\n",
       "      <th>1</th>\n",
       "      <td>1.187.164.29</td>\n",
       "      <td>0</td>\n",
       "      <td>8</td>\n",
       "    </tr>\n",
       "    <tr>\n",
       "      <th>2</th>\n",
       "      <td>1.22.41.76</td>\n",
       "      <td>0</td>\n",
       "      <td>5</td>\n",
       "    </tr>\n",
       "    <tr>\n",
       "      <th>3</th>\n",
       "      <td>1.23.208.26</td>\n",
       "      <td>0</td>\n",
       "      <td>6</td>\n",
       "    </tr>\n",
       "    <tr>\n",
       "      <th>4</th>\n",
       "      <td>1.23.36.184</td>\n",
       "      <td>0</td>\n",
       "      <td>4</td>\n",
       "    </tr>\n",
       "    <tr>\n",
       "      <th>5</th>\n",
       "      <td>1.38.19.8</td>\n",
       "      <td>0</td>\n",
       "      <td>1</td>\n",
       "    </tr>\n",
       "    <tr>\n",
       "      <th>6</th>\n",
       "      <td>1.38.20.34</td>\n",
       "      <td>0</td>\n",
       "      <td>13</td>\n",
       "    </tr>\n",
       "    <tr>\n",
       "      <th>7</th>\n",
       "      <td>1.39.13.13</td>\n",
       "      <td>0</td>\n",
       "      <td>2</td>\n",
       "    </tr>\n",
       "    <tr>\n",
       "      <th>8</th>\n",
       "      <td>1.39.32.249</td>\n",
       "      <td>0</td>\n",
       "      <td>4</td>\n",
       "    </tr>\n",
       "    <tr>\n",
       "      <th>9</th>\n",
       "      <td>1.39.32.249</td>\n",
       "      <td>1</td>\n",
       "      <td>2</td>\n",
       "    </tr>\n",
       "  </tbody>\n",
       "</table>\n",
       "</div>"
      ],
      "text/plain": [
       "     ip_address  user_session_id  unique_url_count\n",
       "0  1.186.143.37  0                2               \n",
       "1  1.187.164.29  0                8               \n",
       "2  1.22.41.76    0                5               \n",
       "3  1.23.208.26   0                6               \n",
       "4  1.23.36.184   0                4               \n",
       "5  1.38.19.8     0                1               \n",
       "6  1.38.20.34    0                13              \n",
       "7  1.39.13.13    0                2               \n",
       "8  1.39.32.249   0                4               \n",
       "9  1.39.32.249   1                2               "
      ]
     },
     "execution_count": 26,
     "metadata": {},
     "output_type": "execute_result"
    }
   ],
   "source": [
    "n = 10\n",
    "unique_url_visits_count.distinct().limit(n).toPandas().head(n)"
   ]
  },
  {
   "cell_type": "markdown",
   "metadata": {},
   "source": [
    "# 4.) Find the most engaged users, ie the IPs with the longest session times\n",
    "## To find this, i can simply build up from the dataframe i created to solve for average duration time. I perform a sort of session duration to find the IPs with longest session times"
   ]
  },
  {
   "cell_type": "code",
   "execution_count": 27,
   "metadata": {},
   "outputs": [],
   "source": [
    "longest_sessions = min_max_timestamp_session.sort(F.desc(\"session_duration\"))"
   ]
  },
  {
   "cell_type": "code",
   "execution_count": 28,
   "metadata": {},
   "outputs": [
    {
     "data": {
      "text/html": [
       "<div>\n",
       "<style scoped>\n",
       "    .dataframe tbody tr th:only-of-type {\n",
       "        vertical-align: middle;\n",
       "    }\n",
       "\n",
       "    .dataframe tbody tr th {\n",
       "        vertical-align: top;\n",
       "    }\n",
       "\n",
       "    .dataframe thead th {\n",
       "        text-align: right;\n",
       "    }\n",
       "</style>\n",
       "<table border=\"1\" class=\"dataframe\">\n",
       "  <thead>\n",
       "    <tr style=\"text-align: right;\">\n",
       "      <th></th>\n",
       "      <th>ip_address</th>\n",
       "      <th>user_session_id</th>\n",
       "      <th>session_start</th>\n",
       "      <th>session_end</th>\n",
       "      <th>session_duration</th>\n",
       "    </tr>\n",
       "  </thead>\n",
       "  <tbody>\n",
       "    <tr>\n",
       "      <th>0</th>\n",
       "      <td>220.226.206.7</td>\n",
       "      <td>7</td>\n",
       "      <td>2015-07-22 11:51:35.460</td>\n",
       "      <td>2015-07-22 12:59:52.958</td>\n",
       "      <td>68.283333</td>\n",
       "    </tr>\n",
       "    <tr>\n",
       "      <th>1</th>\n",
       "      <td>52.74.219.71</td>\n",
       "      <td>5</td>\n",
       "      <td>2015-07-22 12:10:36.665</td>\n",
       "      <td>2015-07-22 13:01:18.137</td>\n",
       "      <td>50.700000</td>\n",
       "    </tr>\n",
       "    <tr>\n",
       "      <th>2</th>\n",
       "      <td>119.81.61.166</td>\n",
       "      <td>5</td>\n",
       "      <td>2015-07-22 12:10:41.688</td>\n",
       "      <td>2015-07-22 13:01:20.176</td>\n",
       "      <td>50.650000</td>\n",
       "    </tr>\n",
       "    <tr>\n",
       "      <th>3</th>\n",
       "      <td>52.74.219.71</td>\n",
       "      <td>4</td>\n",
       "      <td>2015-07-22 06:30:43.792</td>\n",
       "      <td>2015-07-22 07:21:13.228</td>\n",
       "      <td>50.500000</td>\n",
       "    </tr>\n",
       "    <tr>\n",
       "      <th>4</th>\n",
       "      <td>54.251.151.39</td>\n",
       "      <td>4</td>\n",
       "      <td>2015-07-22 06:30:55.377</td>\n",
       "      <td>2015-07-22 07:21:24.343</td>\n",
       "      <td>50.483333</td>\n",
       "    </tr>\n",
       "    <tr>\n",
       "      <th>5</th>\n",
       "      <td>103.29.159.186</td>\n",
       "      <td>1</td>\n",
       "      <td>2015-07-22 06:30:52.217</td>\n",
       "      <td>2015-07-22 07:21:16.247</td>\n",
       "      <td>50.400000</td>\n",
       "    </tr>\n",
       "    <tr>\n",
       "      <th>6</th>\n",
       "      <td>119.81.61.166</td>\n",
       "      <td>4</td>\n",
       "      <td>2015-07-22 06:30:52.290</td>\n",
       "      <td>2015-07-22 07:21:14.178</td>\n",
       "      <td>50.366667</td>\n",
       "    </tr>\n",
       "    <tr>\n",
       "      <th>7</th>\n",
       "      <td>123.63.241.40</td>\n",
       "      <td>2</td>\n",
       "      <td>2015-07-22 06:30:59.944</td>\n",
       "      <td>2015-07-22 07:21:08.954</td>\n",
       "      <td>50.150000</td>\n",
       "    </tr>\n",
       "    <tr>\n",
       "      <th>8</th>\n",
       "      <td>202.134.59.72</td>\n",
       "      <td>2</td>\n",
       "      <td>2015-07-22 06:30:46.444</td>\n",
       "      <td>2015-07-22 07:20:54.655</td>\n",
       "      <td>50.133333</td>\n",
       "    </tr>\n",
       "    <tr>\n",
       "      <th>9</th>\n",
       "      <td>103.29.159.138</td>\n",
       "      <td>0</td>\n",
       "      <td>2015-07-22 06:30:57.519</td>\n",
       "      <td>2015-07-22 07:21:04.526</td>\n",
       "      <td>50.116667</td>\n",
       "    </tr>\n",
       "  </tbody>\n",
       "</table>\n",
       "</div>"
      ],
      "text/plain": [
       "       ip_address  user_session_id           session_start             session_end  session_duration\n",
       "0  220.226.206.7   7               2015-07-22 11:51:35.460 2015-07-22 12:59:52.958  68.283333       \n",
       "1  52.74.219.71    5               2015-07-22 12:10:36.665 2015-07-22 13:01:18.137  50.700000       \n",
       "2  119.81.61.166   5               2015-07-22 12:10:41.688 2015-07-22 13:01:20.176  50.650000       \n",
       "3  52.74.219.71    4               2015-07-22 06:30:43.792 2015-07-22 07:21:13.228  50.500000       \n",
       "4  54.251.151.39   4               2015-07-22 06:30:55.377 2015-07-22 07:21:24.343  50.483333       \n",
       "5  103.29.159.186  1               2015-07-22 06:30:52.217 2015-07-22 07:21:16.247  50.400000       \n",
       "6  119.81.61.166   4               2015-07-22 06:30:52.290 2015-07-22 07:21:14.178  50.366667       \n",
       "7  123.63.241.40   2               2015-07-22 06:30:59.944 2015-07-22 07:21:08.954  50.150000       \n",
       "8  202.134.59.72   2               2015-07-22 06:30:46.444 2015-07-22 07:20:54.655  50.133333       \n",
       "9  103.29.159.138  0               2015-07-22 06:30:57.519 2015-07-22 07:21:04.526  50.116667       "
      ]
     },
     "execution_count": 28,
     "metadata": {},
     "output_type": "execute_result"
    }
   ],
   "source": [
    "n=10\n",
    "longest_sessions.limit(n).toPandas().head(n)"
   ]
  },
  {
   "cell_type": "markdown",
   "metadata": {},
   "source": [
    "# BONUS"
   ]
  },
  {
   "cell_type": "markdown",
   "metadata": {},
   "source": [
    "## is 15 minutes a reasonable threshold? / What's a good threshold for session idle?\n",
    "#### crude yet quick and simple way, get the average duration between a timestamp entry"
   ]
  },
  {
   "cell_type": "code",
   "execution_count": 44,
   "metadata": {},
   "outputs": [
    {
     "name": "stdout",
     "output_type": "stream",
     "text": [
      "+-------------------+\n",
      "|avg(lag_in_minutes)|\n",
      "+-------------------+\n",
      "|  4.380572545332297|\n",
      "+-------------------+\n",
      "\n"
     ]
    }
   ],
   "source": [
    "user_session_id.agg(F.avg(F.col(\"lag_in_minutes\"))).show()"
   ]
  },
  {
   "cell_type": "markdown",
   "metadata": {},
   "source": [
    "#### This tells us 4 minutes is candidate threshold, however averages can be pulled by it's distribution as shown below"
   ]
  },
  {
   "cell_type": "code",
   "execution_count": 49,
   "metadata": {},
   "outputs": [
    {
     "data": {
      "text/plain": [
       "Text(0.5, 1.0, 'Histrogram of the timestamp entry interval')"
      ]
     },
     "execution_count": 49,
     "metadata": {},
     "output_type": "execute_result"
    },
    {
     "data": {
      "image/png": "[encoded data removed]",
      "text/plain": [
       "<Figure size 432x288 with 1 Axes>"
      ]
     },
     "metadata": {
      "needs_background": "light"
     },
     "output_type": "display_data"
    }
   ],
   "source": [
    "#create histogram to check distribution of activity intervals\n",
    "hist_act_interval = user_session_id.select('lag_in_minutes').toPandas().dropna()\n",
    "hist_act_interval.hist(bins=10)\n",
    "plt.xlabel(\"Duration in minutes\",fontsize=18)\n",
    "plt.ylabel(\"Count\",fontsize=18)\n",
    "plt.title(\"Histrogram of the timestamp entry interval\",fontsize=18)"
   ]
  },
  {
   "cell_type": "markdown",
   "metadata": {},
   "source": [
    "## one way to figure out is find a certain point where the distrbution starts to taper-off, in this case, figuring the percentile where outliers start to show up and simply use that as the threshold"
   ]
  },
  {
   "cell_type": "code",
   "execution_count": 51,
   "metadata": {},
   "outputs": [
    {
     "data": {
      "text/plain": [
       "0.0    0.000000   \n",
       "0.1    0.000000   \n",
       "0.2    0.033333   \n",
       "0.3    0.066667   \n",
       "0.4    0.150000   \n",
       "0.5    0.266667   \n",
       "0.6    0.466667   \n",
       "0.7    0.833333   \n",
       "0.8    1.533333   \n",
       "0.9    3.200000   \n",
       "1.0    1103.616667\n",
       "Name: lag_in_minutes, dtype: float64"
      ]
     },
     "execution_count": 51,
     "metadata": {},
     "output_type": "execute_result"
    }
   ],
   "source": [
    "centiles = np.arange(0, 1.1, 0.10)\n",
    "hist_act_interval.lag_in_minutes.quantile(centiles)"
   ]
  },
  {
   "cell_type": "markdown",
   "metadata": {},
   "source": [
    "According to this, somewhere at 90th percentile, the timestamp interval started to drastically change"
   ]
  },
  {
   "cell_type": "code",
   "execution_count": 76,
   "metadata": {},
   "outputs": [
    {
     "data": {
      "text/plain": [
       "Text(0.5, 1.0, 'Percentile distribution of timestamp interval')"
      ]
     },
     "execution_count": 76,
     "metadata": {},
     "output_type": "execute_result"
    },
    {
     "data": {
      "image/png": "[encoded data removed]",
      "text/plain": [
       "<Figure size 2160x360 with 1 Axes>"
      ]
     },
     "metadata": {
      "needs_background": "light"
     },
     "output_type": "display_data"
    }
   ],
   "source": [
    "centiles = np.arange(0.8, 1, 0.01)\n",
    "fig, ax = plt.subplots()\n",
    "quartiles_ = pd.DataFrame(hist_act_interval.lag_in_minutes.quantile(centiles)).plot(kind='bar',figsize=(30,5),rot=45, ax=ax)\n",
    "#ax.xticks(fontsize=14)\n",
    "ax.set_xlabel(\"Percentile\",fontsize=18)\n",
    "ax.set_ylabel(\"Timestamp interval\",fontsize=18)\n",
    "plt.title(\"Percentile distribution of timestamp interval\",fontsize=18)"
   ]
  },
  {
   "cell_type": "markdown",
   "metadata": {},
   "source": [
    "#### There are a number of candidate points which we can select a point of change and it might be overly overfitting per say to consider more significant figures. We can select 98th percentile as our threshold to give more flexibility"
   ]
  },
  {
   "cell_type": "code",
   "execution_count": 59,
   "metadata": {},
   "outputs": [
    {
     "data": {
      "text/plain": [
       "0.98    11.516667\n",
       "Name: lag_in_minutes, dtype: float64"
      ]
     },
     "execution_count": 59,
     "metadata": {},
     "output_type": "execute_result"
    }
   ],
   "source": [
    "hist_act_interval.lag_in_minutes.quantile([0.98])"
   ]
  },
  {
   "cell_type": "markdown",
   "metadata": {},
   "source": [
    "### what we're given is 11.51 minutes or 12 minutes roughly, relatively near to 15 minutes. If we chose 12 minutes how much can this change our results?"
   ]
  },
  {
   "cell_type": "code",
   "execution_count": 66,
   "metadata": {},
   "outputs": [],
   "source": [
    "#sessionize weblogs with 12 minutes as the threshold\n",
    "user_session_id_12 = subset_log_df.withColumn(\"last_event\", F.lag('timestamp').over(W.partitionBy('ip_address').orderBy('timestamp')))\\\n",
    ".withColumn('lag_in_minutes', (F.unix_timestamp('timestamp') - F.unix_timestamp('last_event'))/60)\\\n",
    ".withColumn('is_new_session', F.when( F.col('lag_in_minutes') > 11.516667, 1).otherwise(0))\\\n",
    ".withColumn(\"user_session_id\", F.sum('is_new_session').over(W.partitionBy('ip_address').orderBy('timestamp')))"
   ]
  },
  {
   "cell_type": "code",
   "execution_count": 67,
   "metadata": {},
   "outputs": [],
   "source": [
    "min_max_timestamp_session_12 = user_session_id_12\\\n",
    ".select('timestamp','ip_address','user_session_id')\\\n",
    ".withColumn(\"session_start\", F.min('timestamp').over(W.partitionBy('ip_address','user_session_id')))\\\n",
    ".withColumn(\"session_end\", F.max('timestamp').over(W.partitionBy('ip_address','user_session_id')))\\\n",
    ".drop('timestamp')\\\n",
    ".withColumn('session_duration', (F.unix_timestamp('session_end') - F.unix_timestamp('session_start'))/60)\\\n",
    ".distinct()"
   ]
  },
  {
   "cell_type": "code",
   "execution_count": 68,
   "metadata": {},
   "outputs": [
    {
     "name": "stdout",
     "output_type": "stream",
     "text": [
      "+---------------------+\n",
      "|avg(session_duration)|\n",
      "+---------------------+\n",
      "|    8.739286246261274|\n",
      "+---------------------+\n",
      "\n"
     ]
    }
   ],
   "source": [
    "min_max_timestamp_session_12.agg(F.avg(F.col(\"session_duration\"))).show()"
   ]
  },
  {
   "cell_type": "code",
   "execution_count": 70,
   "metadata": {},
   "outputs": [
    {
     "data": {
      "text/plain": [
       "0.8367779966017466"
      ]
     },
     "execution_count": 70,
     "metadata": {},
     "output_type": "execute_result"
    }
   ],
   "source": [
    "# average session time of 15 minutes - average session time of roughly 12 minutes\n",
    "9.576064242863021 - 8.739286246261274"
   ]
  },
  {
   "cell_type": "markdown",
   "metadata": {},
   "source": [
    "Hardly a difference in average session duration, depending on the usecase of this metric. How about the count of sessions?"
   ]
  },
  {
   "cell_type": "code",
   "execution_count": 73,
   "metadata": {},
   "outputs": [
    {
     "data": {
      "text/plain": [
       "107737"
      ]
     },
     "execution_count": 73,
     "metadata": {},
     "output_type": "execute_result"
    }
   ],
   "source": [
    "user_session_id.select('ip_address','user_session_id').distinct().count()"
   ]
  },
  {
   "cell_type": "code",
   "execution_count": 74,
   "metadata": {},
   "outputs": [
    {
     "data": {
      "text/plain": [
       "111892"
      ]
     },
     "execution_count": 74,
     "metadata": {},
     "output_type": "execute_result"
    }
   ],
   "source": [
    "user_session_id_12.select('ip_address','user_session_id').distinct().count()"
   ]
  },
  {
   "cell_type": "code",
   "execution_count": 75,
   "metadata": {},
   "outputs": [
    {
     "data": {
      "text/plain": [
       "4155"
      ]
     },
     "execution_count": 75,
     "metadata": {},
     "output_type": "execute_result"
    }
   ],
   "source": [
    "111892-107737"
   ]
  },
  {
   "cell_type": "markdown",
   "metadata": {},
   "source": [
    "By changing the threshold to roughly 12 minutes, the count of sessions increased by 4155. This can greatly affect other metrics reliant on the count of sessions. But in any case, depending on use case. 15 Minutes could suffice or using 11.52 minutes could be desirable. What matters is which accurately reflects on the user's behaviour. Given that i'm working with a single day's log, this 'sample' average will naturally be different from the population average given idosyncracies of traffic behavior in a particular day as compared to the population of web traffic for paytm."
   ]
  },
  {
   "cell_type": "markdown",
   "metadata": {},
   "source": [
    "## Extension of 4; Which IPs have the longest AVERAGE session duration?\n",
    "This is not necesarily a better answer as averaging can remove a lot of information in data (i.e. a user can simply be just checking out his/her items stored in the carts vs actually browsing for items to add to cart then check them out) which are event driven and can be useful for a marketing use-case (i.e. promotions, a/b testing and etc...) but in some cases, it could important for things like capacity planning or similar activities for server load and as such."
   ]
  },
  {
   "cell_type": "code",
   "execution_count": 39,
   "metadata": {},
   "outputs": [],
   "source": [
    "avg_sessions_per_ip = min_max_timestamp_session.withColumn(\"average_sessions\", F.avg(\"session_duration\").over(W.partitionBy('ip_address')))\\\n",
    ".drop('session_start','session_end','user_session_id','session_duration').distinct()"
   ]
  },
  {
   "cell_type": "code",
   "execution_count": 40,
   "metadata": {},
   "outputs": [
    {
     "data": {
      "text/html": [
       "<div>\n",
       "<style scoped>\n",
       "    .dataframe tbody tr th:only-of-type {\n",
       "        vertical-align: middle;\n",
       "    }\n",
       "\n",
       "    .dataframe tbody tr th {\n",
       "        vertical-align: top;\n",
       "    }\n",
       "\n",
       "    .dataframe thead th {\n",
       "        text-align: right;\n",
       "    }\n",
       "</style>\n",
       "<table border=\"1\" class=\"dataframe\">\n",
       "  <thead>\n",
       "    <tr style=\"text-align: right;\">\n",
       "      <th></th>\n",
       "      <th>ip_address</th>\n",
       "      <th>average_sessions</th>\n",
       "    </tr>\n",
       "  </thead>\n",
       "  <tbody>\n",
       "    <tr>\n",
       "      <th>0</th>\n",
       "      <td>1.186.143.37</td>\n",
       "      <td>9.100000</td>\n",
       "    </tr>\n",
       "    <tr>\n",
       "      <th>1</th>\n",
       "      <td>1.187.164.29</td>\n",
       "      <td>15.366667</td>\n",
       "    </tr>\n",
       "    <tr>\n",
       "      <th>2</th>\n",
       "      <td>1.22.41.76</td>\n",
       "      <td>14.400000</td>\n",
       "    </tr>\n",
       "    <tr>\n",
       "      <th>3</th>\n",
       "      <td>1.23.208.26</td>\n",
       "      <td>17.283333</td>\n",
       "    </tr>\n",
       "    <tr>\n",
       "      <th>4</th>\n",
       "      <td>1.23.36.184</td>\n",
       "      <td>9.433333</td>\n",
       "    </tr>\n",
       "    <tr>\n",
       "      <th>5</th>\n",
       "      <td>1.38.19.8</td>\n",
       "      <td>10.983333</td>\n",
       "    </tr>\n",
       "    <tr>\n",
       "      <th>6</th>\n",
       "      <td>1.38.20.34</td>\n",
       "      <td>16.983333</td>\n",
       "    </tr>\n",
       "    <tr>\n",
       "      <th>7</th>\n",
       "      <td>1.39.13.13</td>\n",
       "      <td>1.750000</td>\n",
       "    </tr>\n",
       "    <tr>\n",
       "      <th>8</th>\n",
       "      <td>1.39.32.249</td>\n",
       "      <td>5.808333</td>\n",
       "    </tr>\n",
       "    <tr>\n",
       "      <th>9</th>\n",
       "      <td>1.39.32.59</td>\n",
       "      <td>0.000000</td>\n",
       "    </tr>\n",
       "  </tbody>\n",
       "</table>\n",
       "</div>"
      ],
      "text/plain": [
       "     ip_address  average_sessions\n",
       "0  1.186.143.37  9.100000        \n",
       "1  1.187.164.29  15.366667       \n",
       "2  1.22.41.76    14.400000       \n",
       "3  1.23.208.26   17.283333       \n",
       "4  1.23.36.184   9.433333        \n",
       "5  1.38.19.8     10.983333       \n",
       "6  1.38.20.34    16.983333       \n",
       "7  1.39.13.13    1.750000        \n",
       "8  1.39.32.249   5.808333        \n",
       "9  1.39.32.59    0.000000        "
      ]
     },
     "execution_count": 40,
     "metadata": {},
     "output_type": "execute_result"
    }
   ],
   "source": [
    "n=10\n",
    "avg_sessions_per_ip.limit(n).toPandas().head(n)"
   ]
  },
  {
   "cell_type": "code",
   "execution_count": 41,
   "metadata": {},
   "outputs": [
    {
     "data": {
      "text/html": [
       "<div>\n",
       "<style scoped>\n",
       "    .dataframe tbody tr th:only-of-type {\n",
       "        vertical-align: middle;\n",
       "    }\n",
       "\n",
       "    .dataframe tbody tr th {\n",
       "        vertical-align: top;\n",
       "    }\n",
       "\n",
       "    .dataframe thead th {\n",
       "        text-align: right;\n",
       "    }\n",
       "</style>\n",
       "<table border=\"1\" class=\"dataframe\">\n",
       "  <thead>\n",
       "    <tr style=\"text-align: right;\">\n",
       "      <th></th>\n",
       "      <th>ip_address</th>\n",
       "      <th>average_sessions</th>\n",
       "    </tr>\n",
       "  </thead>\n",
       "  <tbody>\n",
       "    <tr>\n",
       "      <th>0</th>\n",
       "      <td>103.29.159.138</td>\n",
       "      <td>50.116667</td>\n",
       "    </tr>\n",
       "    <tr>\n",
       "      <th>1</th>\n",
       "      <td>115.184.198.199</td>\n",
       "      <td>50.050000</td>\n",
       "    </tr>\n",
       "    <tr>\n",
       "      <th>2</th>\n",
       "      <td>122.169.141.4</td>\n",
       "      <td>50.033333</td>\n",
       "    </tr>\n",
       "    <tr>\n",
       "      <th>3</th>\n",
       "      <td>122.172.183.180</td>\n",
       "      <td>49.850000</td>\n",
       "    </tr>\n",
       "    <tr>\n",
       "      <th>4</th>\n",
       "      <td>14.99.226.79</td>\n",
       "      <td>49.466667</td>\n",
       "    </tr>\n",
       "    <tr>\n",
       "      <th>5</th>\n",
       "      <td>107.167.108.146</td>\n",
       "      <td>49.350000</td>\n",
       "    </tr>\n",
       "    <tr>\n",
       "      <th>6</th>\n",
       "      <td>117.217.94.18</td>\n",
       "      <td>49.283333</td>\n",
       "    </tr>\n",
       "    <tr>\n",
       "      <th>7</th>\n",
       "      <td>117.220.188.232</td>\n",
       "      <td>49.200000</td>\n",
       "    </tr>\n",
       "    <tr>\n",
       "      <th>8</th>\n",
       "      <td>59.176.75.122</td>\n",
       "      <td>48.866667</td>\n",
       "    </tr>\n",
       "    <tr>\n",
       "      <th>9</th>\n",
       "      <td>1.22.213.213</td>\n",
       "      <td>48.750000</td>\n",
       "    </tr>\n",
       "  </tbody>\n",
       "</table>\n",
       "</div>"
      ],
      "text/plain": [
       "        ip_address  average_sessions\n",
       "0  103.29.159.138   50.116667       \n",
       "1  115.184.198.199  50.050000       \n",
       "2  122.169.141.4    50.033333       \n",
       "3  122.172.183.180  49.850000       \n",
       "4  14.99.226.79     49.466667       \n",
       "5  107.167.108.146  49.350000       \n",
       "6  117.217.94.18    49.283333       \n",
       "7  117.220.188.232  49.200000       \n",
       "8  59.176.75.122    48.866667       \n",
       "9  1.22.213.213     48.750000       "
      ]
     },
     "execution_count": 41,
     "metadata": {},
     "output_type": "execute_result"
    }
   ],
   "source": [
    "#after sorting\n",
    "n=10\n",
    "avg_sessions_per_ip.sort(F.desc(\"average_sessions\")).limit(n).toPandas().head(n)"
   ]
  }
 ],
 "metadata": {
  "kernelspec": {
   "display_name": "Python 3",
   "language": "python",
   "name": "python3"
  },
  "language_info": {
   "codemirror_mode": {
    "name": "ipython",
    "version": 3
   },
   "file_extension": ".py",
   "mimetype": "text/x-python",
   "name": "python",
   "nbconvert_exporter": "python",
   "pygments_lexer": "ipython3",
   "version": "3.7.4"
  }
 },
 "nbformat": 4,
 "nbformat_minor": 4
}
